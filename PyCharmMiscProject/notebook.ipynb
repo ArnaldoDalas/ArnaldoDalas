{
 "cells": [
  {
   "metadata": {},
   "cell_type": "markdown",
   "source": [
    "# This is a sample Jupyter Notebook\n",
    "\n",
    "Below is an example of a code cell. \n",
    "Put your cursor into the cell and press Shift+Enter to execute it and select the next one, or click 'Run Cell' button.\n",
    "\n",
    "Press Double Shift to search everywhere for classes, files, tool windows, actions, and settings.\n",
    "\n",
    "To learn more about Jupyter Notebooks in PyCharm, see [help](https://www.jetbrains.com/help/pycharm/ipython-notebook-support.html).\n",
    "For an overview of PyCharm, go to Help -> Learn IDE features or refer to [our documentation](https://www.jetbrains.com/help/pycharm/getting-started.html)."
   ],
   "id": "8a77807f92f26ee"
  },
  {
   "metadata": {
    "jupyter": {
     "is_executing": true
    }
   },
   "cell_type": "code",
   "source": [
    "from flask import Flask\n",
    "\n",
    "app = Flask(__name__)\n",
    "\n",
    "@app.route('/')\n",
    "def home():\n",
    "    return 'Bem-vindo ao Software Escolar!'\n",
    "\n",
    "if __name__ == '__main__':\n",
    "    app.run(debug=True)\n"
   ],
   "id": "9f13311fa89c505f",
   "outputs": [],
   "execution_count": null
  },
  {
   "metadata": {},
   "cell_type": "code",
   "outputs": [],
   "execution_count": null,
   "source": [
    "from flask import request, jsonify\n",
    "\n",
    "# Simulando um banco de dados com uma lista\n",
    "alunos = []\n",
    "\n",
    "@app.route('/alunos', methods=['POST'])\n",
    "def cadastrar_aluno():\n",
    "    aluno = request.json\n",
    "    alunos.append(aluno)\n",
    "    return jsonify(aluno), 201\n"
   ],
   "id": "840711f452bace39"
  },
  {
   "metadata": {},
   "cell_type": "code",
   "outputs": [],
   "execution_count": null,
   "source": [
    "@app.route('/alunos', methods=['GET'])\n",
    "def listar_alunos():\n",
    "    return jsonify(alunos), 200"
   ],
   "id": "9c9b6d0a2813876"
  },
  {
   "metadata": {},
   "cell_type": "code",
   "outputs": [],
   "execution_count": null,
   "source": [
    "@app.route('/alunos/<int:aluno_id>', methods=['PUT'])\n",
    "def atualizar_aluno(aluno_id):\n",
    "    if aluno_id < len(alunos):\n",
    "        alunos[aluno_id] = request.json\n",
    "        return jsonify(alunos[aluno_id]), 200\n",
    "    return jsonify({'erro': 'Aluno não encontrado'}), 404"
   ],
   "id": "b64e35d4231f01b4"
  },
  {
   "metadata": {},
   "cell_type": "code",
   "outputs": [],
   "execution_count": null,
   "source": [
    "@app.route('/alunos/<int:aluno_id>', methods=['DELETE'])\n",
    "def remover_aluno(aluno_id):\n",
    "    if aluno_id < len(alunos):\n",
    "        aluno_removido = alunos.pop(aluno_id)\n",
    "        return jsonify(aluno_removido), 200\n",
    "    return jsonify({'erro': 'Aluno não encontrado'}), 404"
   ],
   "id": "a79eb4b0be4060c2"
  },
  {
   "metadata": {},
   "cell_type": "code",
   "outputs": [],
   "execution_count": null,
   "source": [
    "notas = {}\n",
    "\n",
    "@app.route('/notas', methods=['POST'])\n",
    "def cadastrar_nota():\n",
    "    nota_info = request.json\n",
    "    aluno_id = nota_info['aluno_id']\n",
    "    if aluno_id not in notas:\n",
    "        notas[aluno_id] = []\n",
    "    notas[aluno_id].append(nota_info['nota'])\n",
    "    return jsonify(notas[aluno_id]), 201"
   ],
   "id": "d6545951d5340ece"
  },
  {
   "metadata": {},
   "cell_type": "code",
   "outputs": [],
   "execution_count": null,
   "source": [
    "@app.route('/notas/<int:aluno_id>', methods=['GET'])\n",
    "def listar_notas(aluno_id):\n",
    "    return jsonify(notas.get(aluno_id, [])), 200"
   ],
   "id": "3be6ea28b2fb4fd8"
  },
  {
   "metadata": {},
   "cell_type": "code",
   "outputs": [],
   "execution_count": null,
   "source": "",
   "id": "f62e03338118f94b"
  },
  {
   "metadata": {},
   "cell_type": "markdown",
   "source": "",
   "id": "38a838126dcbf370"
  },
  {
   "metadata": {},
   "cell_type": "markdown",
   "source": "curl -X POST -H \"Content-Type: application/json\" -d '{\"nome\": \"João\", \"turma\": \"1A\"}' http://localhost:5000/alunos  curl -X POST -H \"Content-Type: application/json\" -d '{\"nome\": \"João\", \"turma\": \"1A\"}' http://localhost:5000/alunos  curl -X POST -H \"Content-Type: application/json\" -d '{\"nome\": \"João\", \"turma\": \"1A\"}' http://localhost:5000/alunos",
   "id": "6d4f076f7bab7dd6"
  },
  {
   "metadata": {},
   "cell_type": "code",
   "outputs": [],
   "execution_count": null,
   "source": "",
   "id": "7680a58699d471ae"
  }
 ],
 "metadata": {
  "kernelspec": {
   "display_name": "Python 3",
   "language": "python",
   "name": "python3"
  },
  "language_info": {
   "codemirror_mode": {
    "name": "ipython",
    "version": 2
   },
   "file_extension": ".py",
   "mimetype": "text/x-python",
   "name": "python",
   "nbconvert_exporter": "python",
   "pygments_lexer": "ipython2",
   "version": "2.7.6"
  }
 },
 "nbformat": 4,
 "nbformat_minor": 5
}
